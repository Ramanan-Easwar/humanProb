{
 "cells": [
  {
   "cell_type": "markdown",
   "metadata": {},
   "source": [
    "# READ ME\n",
    "* In this approach, I've created a list with all the keypoints from the tracker results in one list i.e. id_samples\n",
    "* The corresponding labels list is a boolean list of humans or not.\n",
    "# Approach\n",
    "* The timestamp ranges are noted where there are no humans and the split is made accordingly.\n",
    "* Then the list is converted to a numpy array and both the arrays are shuffled without losing their relationship using the shuffle() that uses seed method of rand_state. The import step here is not to lose the relationship between both the arrays or else there's no point in training the neural net. \n",
    "* Next, the test train split is done and the RNN is used with 3 LSTM layers(CuDNNLSTM) for the processing of 18 keypoints with each in a list of [x,y,p(x,y)] format and two dense layers to make the prediction.\n",
    "* For further details, refer the model.summary() cell which include the number of neurons per each layer. All the layers are of tf.keras\n",
    "* The result is in a 2 dimensional array where result[i][0] is the probability that it's a human and result[i][1] is the probability that it is not."
   ]
  },
  {
   "cell_type": "code",
   "execution_count": 107,
   "metadata": {},
   "outputs": [],
   "source": [
    "import ndjson\n",
    "import numpy as np\n",
    "import random\n",
    "import matplotlib.pyplot as plt"
   ]
  },
  {
   "cell_type": "code",
   "execution_count": 2,
   "metadata": {},
   "outputs": [],
   "source": [
    "#opening tracker results\n",
    "with open('concated.ndjson') as f:\n",
    "    c_data = ndjson.load(f)"
   ]
  },
  {
   "cell_type": "markdown",
   "metadata": {},
   "source": [
    "# Checking the given ndjson file's format i.e. the Tracker Results \n",
    "  # (for reference of the tracker results-rough work)"
   ]
  },
  {
   "cell_type": "code",
   "execution_count": 73,
   "metadata": {},
   "outputs": [],
   "source": [
    "for c in c_data:\n",
    "    val = (int)(c['id'])\n",
    "    if(val == 0):\n",
    "        for i in range(18):\n",
    "            num = (c['frames'][0]['pose']['keypoints'][i]) #returns the 18 pose keypoints for 0th frame\n",
    "            #num = (c['frames'][0]['pose']) # returns the keypoints along with the midpoint of feet\n",
    "            print(num)\n",
    "        break\n",
    "for c in c_data:\n",
    "    val = (int)(c['id'])\n",
    "    if(val == 3124):\n",
    "        num = len(c['frames'])\n",
    "        for i in range(num):\n",
    "#             print(\"Frame: \",i,c['frames'][i]['position'])#frame by frame position of midpoint\n",
    "            print(\"Frame: \",i,c['frames'][i]['pose'])\n",
    "            print(\"-------------------------------------------------------------\")\n",
    "        break"
   ]
  },
  {
   "cell_type": "markdown",
   "metadata": {},
   "source": [
    "# Frames that don't have any humans are referred from video and is split accordingly. \n",
    "* In the context of the video, it is quite clear that there are no humans after a point of time in video. Yet, the tracker and the openpose results show the opposite. Thus, any object that has the timestamp value above 42698s i.e. beyond the 11 hours and 30 minute mark, we mark that id from the tracker result as non-human, that is, append a 0 to the label list along with it's keypoints in the sample list.\n",
    "* We do the same process for humans, except we append a 1 to the label."
   ]
  },
  {
   "cell_type": "code",
   "execution_count": 76,
   "metadata": {},
   "outputs": [],
   "source": [
    "id_sample = [] #contains the keypoints along \n",
    "id_label = []  #human or not\n",
    "for c in c_data:\n",
    "    num = len(c['frames'])\n",
    "    for i in range(num):\n",
    "        time = c['frames'][i]['timestamp']\n",
    "        time = int(time)\n",
    "        if(time >= 42180):  #change it to your correspoding timestamp where humans stop appearing\n" ,
    "            li = c['frames'][i]['pose']['keypoints']\n",
    "            id_sample.append(li)\n",
    "            id_label.append(0)"
   ]
  },
  {
   "cell_type": "code",
   "execution_count": 42,
   "metadata": {},
   "outputs": [],
   "source": [
    "for c in c_data:\n",
    "    num = len(c['frames'])\n",
    "    for i in range(num):\n",
    "        time = c['frames'][i]['timestamp']\n",
    "        time = int(time)\n",
    "        if(time < 42180):\n",
    "            li = c['frames'][i]['pose']['keypoints']\n",
    "            id_sample.append(li)\n",
    "            id_label.append(1)"
   ]
  },
  {
   "cell_type": "markdown",
   "metadata": {},
   "source": [
    "# Converting the lists into a numpy array for training "
   ]
  },
  {
   "cell_type": "code",
   "execution_count": 77,
   "metadata": {},
   "outputs": [
    {
     "name": "stdout",
     "output_type": "stream",
     "text": [
      "Shape of sample array containing keypoints of tracker (350122, 18, 3)\n",
      "Shape of sample array containing keypoints of tracker (350122,)\n"
     ]
    }
   ],
   "source": [
    "id_sample = np.array(id_sample)\n",
    "id_label = np.array(id_label)\n",
    "print(\"Shape of sample array containing keypoints of tracker\",id_sample.shape)\n",
    "print(\"Shape of sample array containing keypoints of tracker\",id_label.shape)"
   ]
  },
  {
   "cell_type": "markdown",
   "metadata": {},
   "source": [
    "# Shuffle both the numpy arrays\n",
    "* Shuffling is done in such a way that the corresponding array elements continues to correspond, i.e. shuffle them in unison with respect to their leading indices."
   ]
  },
  {
   "cell_type": "code",
   "execution_count": 45,
   "metadata": {},
   "outputs": [],
   "source": [
    "def shuffle(a, b, seed):\n",
    "   rand_state = np.random.RandomState(seed)\n",
    "   rand_state.shuffle(a)\n",
    "   rand_state.seed(seed)\n",
    "   rand_state.shuffle(b)"
   ]
  },
  {
   "cell_type": "code",
   "execution_count": 78,
   "metadata": {},
   "outputs": [],
   "source": [
    "shuffle(id_sample,id_label,12345) #Sample seed is 12345"
   ]
  },
  {
   "cell_type": "markdown",
   "metadata": {},
   "source": [
    "# NORMALIZATION OF THE np ARRAY\n",
    "* the most essential step- normalize the data to improve efficiency of neural net.\n",
    "* After that, we split the data set into training and test set"
   ]
  },
  {
   "cell_type": "code",
   "execution_count": 47,
   "metadata": {},
   "outputs": [],
   "source": [
    "from sklearn.model_selection import train_test_split\n",
    "from sklearn.preprocessing import MinMaxScaler"
   ]
  },
  {
   "cell_type": "code",
   "execution_count": 48,
   "metadata": {},
   "outputs": [],
   "source": [
    "scaler = MinMaxScaler(feature_range=(-1,1))\n",
    "for i in range(len(id_sample)):\n",
    "    id_sample[i] = scaler.fit_transform(id_sample[i])"
   ]
  },
  {
   "cell_type": "code",
   "execution_count": 49,
   "metadata": {},
   "outputs": [],
   "source": [
    "X_train,X_test,Y_train,Y_test = train_test_split(id_sample,id_label,test_size = 0.2, random_state=4)"
   ]
  },
  {
   "cell_type": "markdown",
   "metadata": {},
   "source": [
    "# RNN DEFINITION\n",
    "* The RNN takes in the normalized train data and makes it run through 3 LSTM with dropouts to train it.\n",
    "* CuDNNLSTM is used to utilize the GPU and make the process faster."
   ]
  },
  {
   "cell_type": "code",
   "execution_count": 56,
   "metadata": {},
   "outputs": [],
   "source": [
    "import keras\n",
    "from tensorflow.keras.models import Sequential\n",
    "from tensorflow.keras.layers import Dense, Dropout, BatchNormalization\n",
    "from tensorflow.compat.v1.keras.layers import CuDNNLSTM\n",
    "from tensorflow.keras.optimizers import Adam"
   ]
  },
  {
   "cell_type": "code",
   "execution_count": 57,
   "metadata": {},
   "outputs": [],
   "source": [
    "model = Sequential()\n",
    "model.add(CuDNNLSTM(128,input_shape = (18,3), return_sequences = True))\n",
    "model.add(Dropout(0.2))\n",
    "model.add(BatchNormalization())\n",
    "model.add(CuDNNLSTM(128,input_shape = (18,3), return_sequences = True))\n",
    "model.add(Dropout(0.1))\n",
    "model.add(BatchNormalization())\n",
    "model.add(CuDNNLSTM(128,input_shape = (18,3)))\n",
    "model.add(Dropout(0.2))\n",
    "model.add(BatchNormalization())\n",
    "model.add(Dense(32,activation = 'relu'))\n",
    "model.add(Dropout(0.2))\n",
    "model.add(Dense(2,activation = 'softmax'))"
   ]
  },
  {
   "cell_type": "code",
   "execution_count": 58,
   "metadata": {},
   "outputs": [
    {
     "name": "stdout",
     "output_type": "stream",
     "text": [
      "Model: \"sequential_13\"\n",
      "_________________________________________________________________\n",
      "Layer (type)                 Output Shape              Param #   \n",
      "=================================================================\n",
      "cu_dnnlstm_33 (CuDNNLSTM)    (None, 18, 128)           68096     \n",
      "_________________________________________________________________\n",
      "dropout_35 (Dropout)         (None, 18, 128)           0         \n",
      "_________________________________________________________________\n",
      "batch_normalization (BatchNo (None, 18, 128)           512       \n",
      "_________________________________________________________________\n",
      "cu_dnnlstm_34 (CuDNNLSTM)    (None, 18, 128)           132096    \n",
      "_________________________________________________________________\n",
      "dropout_36 (Dropout)         (None, 18, 128)           0         \n",
      "_________________________________________________________________\n",
      "batch_normalization_1 (Batch (None, 18, 128)           512       \n",
      "_________________________________________________________________\n",
      "cu_dnnlstm_35 (CuDNNLSTM)    (None, 128)               132096    \n",
      "_________________________________________________________________\n",
      "dropout_37 (Dropout)         (None, 128)               0         \n",
      "_________________________________________________________________\n",
      "batch_normalization_2 (Batch (None, 128)               512       \n",
      "_________________________________________________________________\n",
      "dense_15 (Dense)             (None, 32)                4128      \n",
      "_________________________________________________________________\n",
      "dropout_38 (Dropout)         (None, 32)                0         \n",
      "_________________________________________________________________\n",
      "dense_16 (Dense)             (None, 2)                 66        \n",
      "=================================================================\n",
      "Total params: 338,018\n",
      "Trainable params: 337,250\n",
      "Non-trainable params: 768\n",
      "_________________________________________________________________\n"
     ]
    }
   ],
   "source": [
    "model.summary()"
   ]
  },
  {
   "cell_type": "code",
   "execution_count": 59,
   "metadata": {},
   "outputs": [],
   "source": [
    "MyOp = Adam(lr = 1e-3)"
   ]
  },
  {
   "cell_type": "code",
   "execution_count": 60,
   "metadata": {},
   "outputs": [],
   "source": [
    "model.compile(loss='sparse_categorical_crossentropy', optimizer=MyOp, metrics=['accuracy'])"
   ]
  },
  {
   "cell_type": "code",
   "execution_count": 61,
   "metadata": {},
   "outputs": [],
   "source": [
    "ep = 10\n",
    "bs = 64"
   ]
  },
  {
   "cell_type": "code",
   "execution_count": 62,
   "metadata": {},
   "outputs": [
    {
     "name": "stdout",
     "output_type": "stream",
     "text": [
      "Train on 383455 samples, validate on 95864 samples\n",
      "Epoch 1/10\n",
      "383455/383455 [==============================] - 72s 187us/sample - loss: 0.5786 - accuracy: 0.7292 - val_loss: 0.5711 - val_accuracy: 0.7319\n",
      "Epoch 2/10\n",
      "383455/383455 [==============================] - 62s 163us/sample - loss: 0.5656 - accuracy: 0.7349 - val_loss: 0.5653 - val_accuracy: 0.7348\n",
      "Epoch 3/10\n",
      "383455/383455 [==============================] - 63s 165us/sample - loss: 0.5601 - accuracy: 0.7361 - val_loss: 0.5598 - val_accuracy: 0.7324\n",
      "Epoch 4/10\n",
      "383455/383455 [==============================] - 62s 163us/sample - loss: 0.5557 - accuracy: 0.7378 - val_loss: 0.5526 - val_accuracy: 0.7391\n",
      "Epoch 5/10\n",
      "383455/383455 [==============================] - 63s 164us/sample - loss: 0.5517 - accuracy: 0.7399 - val_loss: 0.5527 - val_accuracy: 0.7355\n",
      "Epoch 6/10\n",
      "383455/383455 [==============================] - 63s 163us/sample - loss: 0.5486 - accuracy: 0.7417 - val_loss: 0.5486 - val_accuracy: 0.7405\n",
      "Epoch 7/10\n",
      "383455/383455 [==============================] - 63s 164us/sample - loss: 0.5455 - accuracy: 0.7431 - val_loss: 0.5503 - val_accuracy: 0.7432\n",
      "Epoch 8/10\n",
      "383455/383455 [==============================] - 63s 165us/sample - loss: 0.5426 - accuracy: 0.7446 - val_loss: 0.5401 - val_accuracy: 0.7458\n",
      "Epoch 9/10\n",
      "383455/383455 [==============================] - 62s 162us/sample - loss: 0.5399 - accuracy: 0.7461 - val_loss: 0.5447 - val_accuracy: 0.7442\n",
      "Epoch 10/10\n",
      "383455/383455 [==============================] - 62s 162us/sample - loss: 0.5373 - accuracy: 0.7474 - val_loss: 0.5344 - val_accuracy: 0.7498\n"
     ]
    }
   ],
   "source": [
    "history = model.fit(X_train,Y_train, batch_size = bs, epochs = ep, validation_data=(X_test,Y_test))"
   ]
  },
  {
   "cell_type": "code",
   "execution_count": 63,
   "metadata": {},
   "outputs": [],
   "source": [
    "results = model.predict(X_test) #result[n][0] --> probablity of the element being a human"
   ]
  },
  {
   "cell_type": "code",
   "execution_count": 101,
   "metadata": {},
   "outputs": [],
   "source": [
    "y_pred = []\n",
    "y_actual = []\n",
    "human_cutoff = 0.9                        # give your desired human probabilty cutoff here. \n",
    "for i in range(len(results)):            \n",
    "    if(results[i][0] > human_cutoff):     \n",
    "        y_pred.append(1)\n",
    "        y_actual.append(Y_test[i])\n",
    "    elif(results[i][0] < (1-human_cutoff)): #the next index denotes the probabilty that it's not a human\n",
    "        y_pred.append(0)\n",
    "        y_actual.append(Y_test[i])"
   ]
  },
  {
   "cell_type": "markdown",
   "metadata": {},
   "source": [
    "# Accuracy graph for 10 epochs"
   ]
  },
  {
   "cell_type": "code",
   "execution_count": 110,
   "metadata": {},
   "outputs": [
    {
     "data": {
      "image/png": "[encoded data removed]",
      "text/plain": [
       "<Figure size 432x288 with 1 Axes>"
      ]
     },
     "metadata": {
      "needs_background": "light"
     },
     "output_type": "display_data"
    }
   ],
   "source": [
    "plt.plot(history.history['accuracy'])\n",
    "plt.plot(history.history['val_accuracy'])\n",
    "plt.title('model accuracy')\n",
    "plt.ylabel('accuracy')\n",
    "plt.xlabel('epoch')\n",
    "plt.legend(['train', 'test'], loc='upper left')\n",
    "plt.show()"
   ]
  },
  {
   "cell_type": "markdown",
   "metadata": {},
   "source": [
    "# Loss graph for 10 epochs"
   ]
  },
  {
   "cell_type": "code",
   "execution_count": 109,
   "metadata": {},
   "outputs": [
    {
     "data": {
      "image/png": "[encoded data removed]",
      "text/plain": [
       "<Figure size 432x288 with 1 Axes>"
      ]
     },
     "metadata": {
      "needs_background": "light"
     },
     "output_type": "display_data"
    }
   ],
   "source": [
    "plt.plot(history.history['loss'])\n",
    "plt.plot(history.history['val_loss'])\n",
    "plt.title('model loss')\n",
    "plt.ylabel('loss')\n",
    "plt.xlabel('epoch')\n",
    "plt.legend(['train', 'test'], loc='upper left')\n",
    "plt.show()"
   ]
  },
  {
   "cell_type": "code",
   "execution_count": null,
   "metadata": {},
   "outputs": [],
   "source": []
  }
 ],
 "metadata": {
  "kernelspec": {
   "display_name": "Python 3",
   "language": "python",
   "name": "python3"
  },
  "language_info": {
   "codemirror_mode": {
    "name": "ipython",
    "version": 3
   },
   "file_extension": ".py",
   "mimetype": "text/x-python",
   "name": "python",
   "nbconvert_exporter": "python",
   "pygments_lexer": "ipython3",
   "version": "3.7.3"
  }
 },
 "nbformat": 4,
 "nbformat_minor": 4
}
